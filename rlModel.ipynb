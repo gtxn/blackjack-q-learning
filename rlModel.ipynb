{
 "cells": [
  {
   "cell_type": "code",
   "execution_count": null,
   "source": [
    "import numpy as np\n",
    "import random\n",
    "from environment import environment"
   ],
   "outputs": [],
   "metadata": {}
  },
  {
   "cell_type": "markdown",
   "source": [
    "### Run this if it's the first time"
   ],
   "metadata": {}
  },
  {
   "cell_type": "code",
   "execution_count": null,
   "source": [
    "qTable = np.zeros((env.numStates, len(env.actions)))"
   ],
   "outputs": [],
   "metadata": {}
  },
  {
   "cell_type": "markdown",
   "source": [
    "### Run this if importing from csv file"
   ],
   "metadata": {}
  },
  {
   "cell_type": "code",
   "execution_count": null,
   "source": [
    "qTable = np.genfromtxt('qTable.csv', delimiter=',')"
   ],
   "outputs": [],
   "metadata": {}
  },
  {
   "cell_type": "code",
   "execution_count": null,
   "source": [
    "env = environment()\n",
    "\n",
    "episodes = 10000\n",
    "epsilon = 0.9 # Chance we take a random choice \n",
    "lRate = 0.8 # Learning rate\n",
    "discount = 0.97 # Discount for the maximum of the next step\n",
    "\n",
    "for episode in range(episodes):\n",
    "    # Print episode status every 100 episodes\n",
    "    if episode % 100 == 0: \n",
    "        print(f'Current episode: {episode}')\n",
    "\n",
    "    done = False\n",
    "    state = env.reset()\n",
    "\n",
    "    stateInd = env.parameterise(state)\n",
    "\n",
    "    if np.random.uniform(0,1) < epsilon:\n",
    "        action = env.actions[random.randint(0,1)]\n",
    "    else:\n",
    "        action = np.argmax(qTable[stateInd, :])\n",
    "\n",
    "    while not done:\n",
    "        newState, reward, done = env.step(action)\n",
    "        newStateInd = env.parameterise(newState)\n",
    "        qTable[stateInd, action] = qTable[stateInd, action] + lRate * (reward + discount * np.argmax(qTable[newStateInd, :])) # Q table formula\n",
    "\n",
    "\n",
    "    # Slowly reduce the number of randomness\n",
    "    epsilon -= 0.01"
   ],
   "outputs": [],
   "metadata": {}
  },
  {
   "cell_type": "code",
   "execution_count": null,
   "source": [
    "# Check populated squares in Q table\n",
    "populated = 0\n",
    "for x in range(len(qTable)):\n",
    "    if qTable[x][0] != 0 or qTable[x][1] != 0:\n",
    "        populated += 1\n",
    "        print(x, qTable[x])\n",
    "\n",
    "print(populated)"
   ],
   "outputs": [],
   "metadata": {}
  },
  {
   "cell_type": "code",
   "execution_count": null,
   "source": [
    "# Save current q table so that it can be used later\n",
    "np.savetxt(\"qTable.csv\", qTable, delimiter=\",\")"
   ],
   "outputs": [],
   "metadata": {}
  }
 ],
 "metadata": {
  "interpreter": {
   "hash": "aee8b7b246df8f9039afb4144a1f6fd8d2ca17a180786b69acc140d282b71a49"
  },
  "kernelspec": {
   "display_name": "conda_python3",
   "language": "python",
   "name": "conda_python3"
  },
  "language_info": {
   "codemirror_mode": {
    "name": "ipython",
    "version": 3
   },
   "file_extension": ".py",
   "mimetype": "text/x-python",
   "name": "python",
   "nbconvert_exporter": "python",
   "pygments_lexer": "ipython3",
   "version": "3.6.13"
  }
 },
 "nbformat": 4,
 "nbformat_minor": 2
}